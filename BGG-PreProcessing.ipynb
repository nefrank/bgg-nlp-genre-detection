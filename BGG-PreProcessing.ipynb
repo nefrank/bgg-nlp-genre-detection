{
 "cells": [
  {
   "cell_type": "code",
   "execution_count": 25,
   "outputs": [],
   "source": [
    "import pandas as pd\n",
    "import numpy as np\n",
    "\n",
    "# NLTK Packages\n",
    "import nltk\n",
    "from nltk.corpus import stopwords\n",
    "from nltk.tokenize import word_tokenize\n",
    "from nltk.stem import PorterStemmer\n",
    "from nltk.stem import WordNetLemmatizer\n",
    "\n",
    "from sklearn.model_selection import train_test_split\n",
    "\n",
    "import matplotlib.pyplot as plt"
   ],
   "metadata": {
    "collapsed": false,
    "pycharm": {
     "name": "#%%\n"
    }
   }
  },
  {
   "cell_type": "code",
   "execution_count": 2,
   "outputs": [],
   "source": [
    "df = pd.read_pickle('data/BGGDataGenreEncoded.pkl')"
   ],
   "metadata": {
    "collapsed": false,
    "pycharm": {
     "name": "#%%\n"
    }
   }
  },
  {
   "cell_type": "code",
   "execution_count": 3,
   "outputs": [
    {
     "name": "stdout",
     "output_type": "stream",
     "text": [
      "['Abstract', \"Children's\", 'Family', 'Strategy', 'Thematic', 'Wargames']\n"
     ]
    }
   ],
   "source": [
    "cols = list(df.columns.values)\n",
    "genre_cols = cols[1:]\n",
    "print(genre_cols)"
   ],
   "metadata": {
    "collapsed": false,
    "pycharm": {
     "name": "#%%\n"
    }
   }
  },
  {
   "cell_type": "code",
   "execution_count": 4,
   "outputs": [],
   "source": [
    "X = df.drop(genre_cols, axis=1)\n",
    "y = df[genre_cols]"
   ],
   "metadata": {
    "collapsed": false,
    "pycharm": {
     "name": "#%%\n"
    }
   }
  },
  {
   "cell_type": "code",
   "execution_count": 5,
   "outputs": [
    {
     "data": {
      "text/plain": "                                             description\n0      gloomhaven is a game of euro inspired tactical...\n1      pandemic legacy is a co operative campaign gam...\n2      gloomhaven jaws of the lion is a standalone ga...\n3      twilight imperium fourth edition is a game of ...\n4      star wars rebellion is a board game of epic co...\n...                                                  ...\n18358  knights poker is the new board game from the w...\n18359  gekitai repel or push away is a in a row game ...\n18360  gekitai repel or push away is a in a row game ...\n18361  digit draughts is a set of three related games...\n18362  limelight is played on a x grid with the corne...\n\n[18363 rows x 1 columns]",
      "text/html": "<div>\n<style scoped>\n    .dataframe tbody tr th:only-of-type {\n        vertical-align: middle;\n    }\n\n    .dataframe tbody tr th {\n        vertical-align: top;\n    }\n\n    .dataframe thead th {\n        text-align: right;\n    }\n</style>\n<table border=\"1\" class=\"dataframe\">\n  <thead>\n    <tr style=\"text-align: right;\">\n      <th></th>\n      <th>description</th>\n    </tr>\n  </thead>\n  <tbody>\n    <tr>\n      <th>0</th>\n      <td>gloomhaven is a game of euro inspired tactical...</td>\n    </tr>\n    <tr>\n      <th>1</th>\n      <td>pandemic legacy is a co operative campaign gam...</td>\n    </tr>\n    <tr>\n      <th>2</th>\n      <td>gloomhaven jaws of the lion is a standalone ga...</td>\n    </tr>\n    <tr>\n      <th>3</th>\n      <td>twilight imperium fourth edition is a game of ...</td>\n    </tr>\n    <tr>\n      <th>4</th>\n      <td>star wars rebellion is a board game of epic co...</td>\n    </tr>\n    <tr>\n      <th>...</th>\n      <td>...</td>\n    </tr>\n    <tr>\n      <th>18358</th>\n      <td>knights poker is the new board game from the w...</td>\n    </tr>\n    <tr>\n      <th>18359</th>\n      <td>gekitai repel or push away is a in a row game ...</td>\n    </tr>\n    <tr>\n      <th>18360</th>\n      <td>gekitai repel or push away is a in a row game ...</td>\n    </tr>\n    <tr>\n      <th>18361</th>\n      <td>digit draughts is a set of three related games...</td>\n    </tr>\n    <tr>\n      <th>18362</th>\n      <td>limelight is played on a x grid with the corne...</td>\n    </tr>\n  </tbody>\n</table>\n<p>18363 rows × 1 columns</p>\n</div>"
     },
     "execution_count": 5,
     "metadata": {},
     "output_type": "execute_result"
    }
   ],
   "source": [
    "X"
   ],
   "metadata": {
    "collapsed": false,
    "pycharm": {
     "name": "#%%\n"
    }
   }
  },
  {
   "cell_type": "code",
   "execution_count": 6,
   "outputs": [
    {
     "data": {
      "text/plain": "       Abstract  Children's  Family  Strategy  Thematic  Wargames\n0             0           0       0         1         1         0\n1             0           0       0         1         1         0\n2             0           0       0         1         1         0\n3             0           0       0         1         1         0\n4             0           0       0         0         1         0\n...         ...         ...     ...       ...       ...       ...\n18358         1           0       0         0         0         0\n18359         1           0       0         0         0         0\n18360         1           0       0         0         0         0\n18361         1           0       0         0         0         0\n18362         1           0       0         0         0         0\n\n[18363 rows x 6 columns]",
      "text/html": "<div>\n<style scoped>\n    .dataframe tbody tr th:only-of-type {\n        vertical-align: middle;\n    }\n\n    .dataframe tbody tr th {\n        vertical-align: top;\n    }\n\n    .dataframe thead th {\n        text-align: right;\n    }\n</style>\n<table border=\"1\" class=\"dataframe\">\n  <thead>\n    <tr style=\"text-align: right;\">\n      <th></th>\n      <th>Abstract</th>\n      <th>Children's</th>\n      <th>Family</th>\n      <th>Strategy</th>\n      <th>Thematic</th>\n      <th>Wargames</th>\n    </tr>\n  </thead>\n  <tbody>\n    <tr>\n      <th>0</th>\n      <td>0</td>\n      <td>0</td>\n      <td>0</td>\n      <td>1</td>\n      <td>1</td>\n      <td>0</td>\n    </tr>\n    <tr>\n      <th>1</th>\n      <td>0</td>\n      <td>0</td>\n      <td>0</td>\n      <td>1</td>\n      <td>1</td>\n      <td>0</td>\n    </tr>\n    <tr>\n      <th>2</th>\n      <td>0</td>\n      <td>0</td>\n      <td>0</td>\n      <td>1</td>\n      <td>1</td>\n      <td>0</td>\n    </tr>\n    <tr>\n      <th>3</th>\n      <td>0</td>\n      <td>0</td>\n      <td>0</td>\n      <td>1</td>\n      <td>1</td>\n      <td>0</td>\n    </tr>\n    <tr>\n      <th>4</th>\n      <td>0</td>\n      <td>0</td>\n      <td>0</td>\n      <td>0</td>\n      <td>1</td>\n      <td>0</td>\n    </tr>\n    <tr>\n      <th>...</th>\n      <td>...</td>\n      <td>...</td>\n      <td>...</td>\n      <td>...</td>\n      <td>...</td>\n      <td>...</td>\n    </tr>\n    <tr>\n      <th>18358</th>\n      <td>1</td>\n      <td>0</td>\n      <td>0</td>\n      <td>0</td>\n      <td>0</td>\n      <td>0</td>\n    </tr>\n    <tr>\n      <th>18359</th>\n      <td>1</td>\n      <td>0</td>\n      <td>0</td>\n      <td>0</td>\n      <td>0</td>\n      <td>0</td>\n    </tr>\n    <tr>\n      <th>18360</th>\n      <td>1</td>\n      <td>0</td>\n      <td>0</td>\n      <td>0</td>\n      <td>0</td>\n      <td>0</td>\n    </tr>\n    <tr>\n      <th>18361</th>\n      <td>1</td>\n      <td>0</td>\n      <td>0</td>\n      <td>0</td>\n      <td>0</td>\n      <td>0</td>\n    </tr>\n    <tr>\n      <th>18362</th>\n      <td>1</td>\n      <td>0</td>\n      <td>0</td>\n      <td>0</td>\n      <td>0</td>\n      <td>0</td>\n    </tr>\n  </tbody>\n</table>\n<p>18363 rows × 6 columns</p>\n</div>"
     },
     "execution_count": 6,
     "metadata": {},
     "output_type": "execute_result"
    }
   ],
   "source": [
    "y"
   ],
   "metadata": {
    "collapsed": false,
    "pycharm": {
     "name": "#%%\n"
    }
   }
  },
  {
   "cell_type": "code",
   "execution_count": 10,
   "metadata": {
    "collapsed": true
   },
   "outputs": [],
   "source": [
    "def tokenizer(text):\n",
    "    \"\"\"\n",
    "    Tokenizes the document\n",
    "    \"\"\"\n",
    "    return word_tokenize(text)\n",
    "\n",
    "#Load up our stop words\n",
    "stop_words = stopwords.words('english')\n",
    "#Adds stuff to our stop words list\n",
    "stop_words.extend(['.',','])\n",
    "\n",
    "## This function can improve, simplify. Look into Text Data Lecture\n",
    "def remove_stopwords(list_of_tokens):\n",
    "    \"\"\"\n",
    "    Removes stopwords\n",
    "    \"\"\"\n",
    "    cleaned_tokens = []\n",
    "\n",
    "    for token in list_of_tokens:\n",
    "        if token in stop_words: continue\n",
    "        cleaned_tokens.append(token)\n",
    "\n",
    "    return cleaned_tokens\n",
    "\n",
    "def stemmer(list_of_tokens):\n",
    "    '''\n",
    "    Takes in an input which is a list of tokens, and spits out a list of stemmed tokens.\n",
    "    '''\n",
    "\n",
    "    stemmed_tokens_list = []\n",
    "\n",
    "    for i in list_of_tokens:\n",
    "\n",
    "        token = PorterStemmer().stem(i)\n",
    "        stemmed_tokens_list.append(token)\n",
    "\n",
    "    return stemmed_tokens_list\n",
    "\n",
    "def lemmatizer(list_of_tokens):\n",
    "\n",
    "    lemmatized_tokens_list = []\n",
    "\n",
    "    for i in list_of_tokens:\n",
    "        token = WordNetLemmatizer().lemmatize(i)\n",
    "        lemmatized_tokens_list.append(token)\n",
    "\n",
    "    return lemmatized_tokens_list\n",
    "\n",
    "\n",
    "def the_untokenizer(token_list):\n",
    "    '''\n",
    "    Returns all the tokenized words in the list to one string.\n",
    "    Used after the pre processing, such as removing stopwords, and lemmatizing.\n",
    "    '''\n",
    "    return \" \".join(token_list)\n",
    "\n",
    "def cleaning_our_texts(text):\n",
    "\n",
    "    cleaned_texts = []\n",
    "    num_texts = len(text)\n",
    "\n",
    "    for i in text.index:\n",
    "        that_string = text[i]\n",
    "        tokenized_list = tokenizer(that_string)\n",
    "        removed_stopwords = remove_stopwords(tokenized_list)\n",
    "        stemmed_words = stemmer(removed_stopwords)\n",
    "        lemmatized_words = lemmatizer(stemmed_words)\n",
    "        back_to_string = the_untokenizer(lemmatized_words)\n",
    "\n",
    "        cleaned_texts.append(back_to_string)\n",
    "\n",
    "    return cleaned_texts"
   ]
  },
  {
   "cell_type": "code",
   "execution_count": 11,
   "outputs": [],
   "source": [
    "X['description'] = cleaning_our_texts(X['description'])"
   ],
   "metadata": {
    "collapsed": false,
    "pycharm": {
     "name": "#%%\n"
    }
   }
  },
  {
   "cell_type": "code",
   "execution_count": 12,
   "outputs": [
    {
     "data": {
      "text/plain": "                                             description\n0      gloomhaven game euro inspir tactic combat pers...\n1      pandem legaci co oper campaign game overarch s...\n2      gloomhaven jaw lion standalon game take place ...\n3      twilight imperium fourth edit game galact conq...\n4      star war rebellion board game epic conflict ga...\n...                                                  ...\n18358  knight poker new board game world lead board g...\n18359  gekitai repel push away row game play x grid p...\n18360  gekitai repel push away row game play x grid p...\n18361  digit draught set three relat game play use eq...\n18362  limelight play x grid corner cut use piec two ...\n\n[18363 rows x 1 columns]",
      "text/html": "<div>\n<style scoped>\n    .dataframe tbody tr th:only-of-type {\n        vertical-align: middle;\n    }\n\n    .dataframe tbody tr th {\n        vertical-align: top;\n    }\n\n    .dataframe thead th {\n        text-align: right;\n    }\n</style>\n<table border=\"1\" class=\"dataframe\">\n  <thead>\n    <tr style=\"text-align: right;\">\n      <th></th>\n      <th>description</th>\n    </tr>\n  </thead>\n  <tbody>\n    <tr>\n      <th>0</th>\n      <td>gloomhaven game euro inspir tactic combat pers...</td>\n    </tr>\n    <tr>\n      <th>1</th>\n      <td>pandem legaci co oper campaign game overarch s...</td>\n    </tr>\n    <tr>\n      <th>2</th>\n      <td>gloomhaven jaw lion standalon game take place ...</td>\n    </tr>\n    <tr>\n      <th>3</th>\n      <td>twilight imperium fourth edit game galact conq...</td>\n    </tr>\n    <tr>\n      <th>4</th>\n      <td>star war rebellion board game epic conflict ga...</td>\n    </tr>\n    <tr>\n      <th>...</th>\n      <td>...</td>\n    </tr>\n    <tr>\n      <th>18358</th>\n      <td>knight poker new board game world lead board g...</td>\n    </tr>\n    <tr>\n      <th>18359</th>\n      <td>gekitai repel push away row game play x grid p...</td>\n    </tr>\n    <tr>\n      <th>18360</th>\n      <td>gekitai repel push away row game play x grid p...</td>\n    </tr>\n    <tr>\n      <th>18361</th>\n      <td>digit draught set three relat game play use eq...</td>\n    </tr>\n    <tr>\n      <th>18362</th>\n      <td>limelight play x grid corner cut use piec two ...</td>\n    </tr>\n  </tbody>\n</table>\n<p>18363 rows × 1 columns</p>\n</div>"
     },
     "execution_count": 12,
     "metadata": {},
     "output_type": "execute_result"
    }
   ],
   "source": [
    "X"
   ],
   "metadata": {
    "collapsed": false,
    "pycharm": {
     "name": "#%%\n"
    }
   }
  },
  {
   "cell_type": "code",
   "execution_count": 70,
   "outputs": [],
   "source": [
    "X_train, X_test, y_train, y_test = train_test_split(X, y, test_size=0.25, random_state = 42)"
   ],
   "metadata": {
    "collapsed": false,
    "pycharm": {
     "name": "#%%\n"
    }
   }
  },
  {
   "cell_type": "code",
   "execution_count": 71,
   "outputs": [],
   "source": [
    "g_count_train = []\n",
    "g_count_test = []\n",
    "genres = []\n",
    "\n",
    "for g in y.columns:\n",
    "    genres.append(g)\n",
    "    g_count_train.append(y_train[g].value_counts()[1])\n",
    "    g_count_test.append(y_test[g].value_counts()[1])\n",
    "\n",
    "genre_counts_train = dict(zip(genres, g_count_train))\n",
    "genre_counts_test = dict(zip(genres, g_count_test))\n",
    "\n",
    "dfg_train = pd.DataFrame.from_dict(genre_counts_train,orient='index')\n",
    "dfg_train = dfg_train.reset_index()\n",
    "dfg_train.columns = ['genre','count']\n",
    "dfg_train = dfg_train.sort_values('count', ascending=False)\n",
    "\n",
    "dfg_test = pd.DataFrame.from_dict(genre_counts_test,orient='index')\n",
    "dfg_test = dfg_test.reset_index()\n",
    "dfg_test.columns = ['genre','count']\n",
    "dfg_test = dfg_test.sort_values('count', ascending=False)"
   ],
   "metadata": {
    "collapsed": false,
    "pycharm": {
     "name": "#%%\n"
    }
   }
  },
  {
   "cell_type": "code",
   "execution_count": 72,
   "outputs": [],
   "source": [
    "tot_train = dfg_train['count'].sum()\n",
    "tot_test = dfg_test['count'].sum()\n",
    "\n",
    "dfg_train['perc'] = dfg_train['count']/tot_train\n",
    "dfg_train['split'] = \"Train\"\n",
    "dfg_test['perc'] = dfg_test['count']/tot_test\n",
    "dfg_test['split'] = \"Test\"\n",
    "\n",
    "comb_df = pd.concat([dfg_train,dfg_test])"
   ],
   "metadata": {
    "collapsed": false,
    "pycharm": {
     "name": "#%%\n"
    }
   }
  },
  {
   "cell_type": "code",
   "execution_count": 73,
   "outputs": [
    {
     "data": {
      "text/plain": "<Figure size 496.475x432 with 1 Axes>",
      "image/png": "[encoded data removed]"
     },
     "metadata": {},
     "output_type": "display_data"
    }
   ],
   "source": [
    "import seaborn as sns\n",
    "sns.set_theme(style=\"whitegrid\")\n",
    "\n",
    "# Draw a nested barplot by species and sex\n",
    "g = sns.catplot(\n",
    "    data=comb_df, kind=\"bar\",\n",
    "    x=\"genre\", y=\"perc\", hue=\"split\", height=6\n",
    ")\n",
    "g.despine(left=True)\n",
    "g.set_axis_labels(\"\", \"Genre Percentage (%)\")\n",
    "g.legend.set_title(\"\")"
   ],
   "metadata": {
    "collapsed": false,
    "pycharm": {
     "name": "#%%\n"
    }
   }
  },
  {
   "cell_type": "code",
   "execution_count": 74,
   "outputs": [],
   "source": [
    "from sklearn.feature_extraction.text import TfidfVectorizer\n",
    "\n",
    "# Instantiate the Vectorizer\n",
    "# min_df at 20 - token should appear in at least 20 documents to be counted\n",
    "tfidf = TfidfVectorizer(min_df=10) #, ngram_range=(1,3))\n",
    "\n",
    "# Fit the vectorizer to the training data\n",
    "tfidf.fit(X_train['description'])\n",
    "\n",
    "# Transform both train and test sets\n",
    "X_train_tfidf = tfidf.transform(X_train['description'])\n",
    "X_test_tfidf = tfidf.transform(X_test['description'])"
   ],
   "metadata": {
    "collapsed": false,
    "pycharm": {
     "name": "#%%\n"
    }
   }
  },
  {
   "cell_type": "code",
   "execution_count": 75,
   "outputs": [
    {
     "data": {
      "text/plain": "['data/my_tfidf_min10.pkl']"
     },
     "execution_count": 75,
     "metadata": {},
     "output_type": "execute_result"
    }
   ],
   "source": [
    "import joblib\n",
    "joblib.dump(tfidf, 'data/my_tfidf_min10.pkl')"
   ],
   "metadata": {
    "collapsed": false,
    "pycharm": {
     "name": "#%%\n"
    }
   }
  },
  {
   "cell_type": "code",
   "execution_count": 76,
   "outputs": [
    {
     "data": {
      "text/plain": "        aa   ab  abacu  abandon  abbey  abbrevi  abc  abil  abl  aboard  ...  \\\n7921   0.0  0.0    0.0      0.0    0.0      0.0  0.0   0.0  0.0     0.0  ...   \n311    0.0  0.0    0.0      0.0    0.0      0.0  0.0   0.0  0.0     0.0  ...   \n17272  0.0  0.0    0.0      0.0    0.0      0.0  0.0   0.0  0.0     0.0  ...   \n7405   0.0  0.0    0.0      0.0    0.0      0.0  0.0   0.0  0.0     0.0  ...   \n7553   0.0  0.0    0.0      0.0    0.0      0.0  0.0   0.0  0.0     0.0  ...   \n...    ...  ...    ...      ...    ...      ...  ...   ...  ...     ...  ...   \n11284  0.0  0.0    0.0      0.0    0.0      0.0  0.0   0.0  0.0     0.0  ...   \n11964  0.0  0.0    0.0      0.0    0.0      0.0  0.0   0.0  0.0     0.0  ...   \n5390   0.0  0.0    0.0      0.0    0.0      0.0  0.0   0.0  0.0     0.0  ...   \n860    0.0  0.0    0.0      0.0    0.0      0.0  0.0   0.0  0.0     0.0  ...   \n15795  0.0  0.0    0.0      0.0    0.0      0.0  0.0   0.0  0.0     0.0  ...   \n\n       zhukov  zip  ziploc  ziplock  zoc  zombi  zone  zoo   zu  zulu  \n7921      0.0  0.0     0.0      0.0  0.0    0.0   0.0  0.0  0.0   0.0  \n311       0.0  0.0     0.0      0.0  0.0    0.0   0.0  0.0  0.0   0.0  \n17272     0.0  0.0     0.0      0.0  0.0    0.0   0.0  0.0  0.0   0.0  \n7405      0.0  0.0     0.0      0.0  0.0    0.0   0.0  0.0  0.0   0.0  \n7553      0.0  0.0     0.0      0.0  0.0    0.0   0.0  0.0  0.0   0.0  \n...       ...  ...     ...      ...  ...    ...   ...  ...  ...   ...  \n11284     0.0  0.0     0.0      0.0  0.0    0.0   0.0  0.0  0.0   0.0  \n11964     0.0  0.0     0.0      0.0  0.0    0.0   0.0  0.0  0.0   0.0  \n5390      0.0  0.0     0.0      0.0  0.0    0.0   0.0  0.0  0.0   0.0  \n860       0.0  0.0     0.0      0.0  0.0    0.0   0.0  0.0  0.0   0.0  \n15795     0.0  0.0     0.0      0.0  0.0    0.0   0.0  0.0  0.0   0.0  \n\n[13772 rows x 6043 columns]",
      "text/html": "<div>\n<style scoped>\n    .dataframe tbody tr th:only-of-type {\n        vertical-align: middle;\n    }\n\n    .dataframe tbody tr th {\n        vertical-align: top;\n    }\n\n    .dataframe thead th {\n        text-align: right;\n    }\n</style>\n<table border=\"1\" class=\"dataframe\">\n  <thead>\n    <tr style=\"text-align: right;\">\n      <th></th>\n      <th>aa</th>\n      <th>ab</th>\n      <th>abacu</th>\n      <th>abandon</th>\n      <th>abbey</th>\n      <th>abbrevi</th>\n      <th>abc</th>\n      <th>abil</th>\n      <th>abl</th>\n      <th>aboard</th>\n      <th>...</th>\n      <th>zhukov</th>\n      <th>zip</th>\n      <th>ziploc</th>\n      <th>ziplock</th>\n      <th>zoc</th>\n      <th>zombi</th>\n      <th>zone</th>\n      <th>zoo</th>\n      <th>zu</th>\n      <th>zulu</th>\n    </tr>\n  </thead>\n  <tbody>\n    <tr>\n      <th>7921</th>\n      <td>0.0</td>\n      <td>0.0</td>\n      <td>0.0</td>\n      <td>0.0</td>\n      <td>0.0</td>\n      <td>0.0</td>\n      <td>0.0</td>\n      <td>0.0</td>\n      <td>0.0</td>\n      <td>0.0</td>\n      <td>...</td>\n      <td>0.0</td>\n      <td>0.0</td>\n      <td>0.0</td>\n      <td>0.0</td>\n      <td>0.0</td>\n      <td>0.0</td>\n      <td>0.0</td>\n      <td>0.0</td>\n      <td>0.0</td>\n      <td>0.0</td>\n    </tr>\n    <tr>\n      <th>311</th>\n      <td>0.0</td>\n      <td>0.0</td>\n      <td>0.0</td>\n      <td>0.0</td>\n      <td>0.0</td>\n      <td>0.0</td>\n      <td>0.0</td>\n      <td>0.0</td>\n      <td>0.0</td>\n      <td>0.0</td>\n      <td>...</td>\n      <td>0.0</td>\n      <td>0.0</td>\n      <td>0.0</td>\n      <td>0.0</td>\n      <td>0.0</td>\n      <td>0.0</td>\n      <td>0.0</td>\n      <td>0.0</td>\n      <td>0.0</td>\n      <td>0.0</td>\n    </tr>\n    <tr>\n      <th>17272</th>\n      <td>0.0</td>\n      <td>0.0</td>\n      <td>0.0</td>\n      <td>0.0</td>\n      <td>0.0</td>\n      <td>0.0</td>\n      <td>0.0</td>\n      <td>0.0</td>\n      <td>0.0</td>\n      <td>0.0</td>\n      <td>...</td>\n      <td>0.0</td>\n      <td>0.0</td>\n      <td>0.0</td>\n      <td>0.0</td>\n      <td>0.0</td>\n      <td>0.0</td>\n      <td>0.0</td>\n      <td>0.0</td>\n      <td>0.0</td>\n      <td>0.0</td>\n    </tr>\n    <tr>\n      <th>7405</th>\n      <td>0.0</td>\n      <td>0.0</td>\n      <td>0.0</td>\n      <td>0.0</td>\n      <td>0.0</td>\n      <td>0.0</td>\n      <td>0.0</td>\n      <td>0.0</td>\n      <td>0.0</td>\n      <td>0.0</td>\n      <td>...</td>\n      <td>0.0</td>\n      <td>0.0</td>\n      <td>0.0</td>\n      <td>0.0</td>\n      <td>0.0</td>\n      <td>0.0</td>\n      <td>0.0</td>\n      <td>0.0</td>\n      <td>0.0</td>\n      <td>0.0</td>\n    </tr>\n    <tr>\n      <th>7553</th>\n      <td>0.0</td>\n      <td>0.0</td>\n      <td>0.0</td>\n      <td>0.0</td>\n      <td>0.0</td>\n      <td>0.0</td>\n      <td>0.0</td>\n      <td>0.0</td>\n      <td>0.0</td>\n      <td>0.0</td>\n      <td>...</td>\n      <td>0.0</td>\n      <td>0.0</td>\n      <td>0.0</td>\n      <td>0.0</td>\n      <td>0.0</td>\n      <td>0.0</td>\n      <td>0.0</td>\n      <td>0.0</td>\n      <td>0.0</td>\n      <td>0.0</td>\n    </tr>\n    <tr>\n      <th>...</th>\n      <td>...</td>\n      <td>...</td>\n      <td>...</td>\n      <td>...</td>\n      <td>...</td>\n      <td>...</td>\n      <td>...</td>\n      <td>...</td>\n      <td>...</td>\n      <td>...</td>\n      <td>...</td>\n      <td>...</td>\n      <td>...</td>\n      <td>...</td>\n      <td>...</td>\n      <td>...</td>\n      <td>...</td>\n      <td>...</td>\n      <td>...</td>\n      <td>...</td>\n      <td>...</td>\n    </tr>\n    <tr>\n      <th>11284</th>\n      <td>0.0</td>\n      <td>0.0</td>\n      <td>0.0</td>\n      <td>0.0</td>\n      <td>0.0</td>\n      <td>0.0</td>\n      <td>0.0</td>\n      <td>0.0</td>\n      <td>0.0</td>\n      <td>0.0</td>\n      <td>...</td>\n      <td>0.0</td>\n      <td>0.0</td>\n      <td>0.0</td>\n      <td>0.0</td>\n      <td>0.0</td>\n      <td>0.0</td>\n      <td>0.0</td>\n      <td>0.0</td>\n      <td>0.0</td>\n      <td>0.0</td>\n    </tr>\n    <tr>\n      <th>11964</th>\n      <td>0.0</td>\n      <td>0.0</td>\n      <td>0.0</td>\n      <td>0.0</td>\n      <td>0.0</td>\n      <td>0.0</td>\n      <td>0.0</td>\n      <td>0.0</td>\n      <td>0.0</td>\n      <td>0.0</td>\n      <td>...</td>\n      <td>0.0</td>\n      <td>0.0</td>\n      <td>0.0</td>\n      <td>0.0</td>\n      <td>0.0</td>\n      <td>0.0</td>\n      <td>0.0</td>\n      <td>0.0</td>\n      <td>0.0</td>\n      <td>0.0</td>\n    </tr>\n    <tr>\n      <th>5390</th>\n      <td>0.0</td>\n      <td>0.0</td>\n      <td>0.0</td>\n      <td>0.0</td>\n      <td>0.0</td>\n      <td>0.0</td>\n      <td>0.0</td>\n      <td>0.0</td>\n      <td>0.0</td>\n      <td>0.0</td>\n      <td>...</td>\n      <td>0.0</td>\n      <td>0.0</td>\n      <td>0.0</td>\n      <td>0.0</td>\n      <td>0.0</td>\n      <td>0.0</td>\n      <td>0.0</td>\n      <td>0.0</td>\n      <td>0.0</td>\n      <td>0.0</td>\n    </tr>\n    <tr>\n      <th>860</th>\n      <td>0.0</td>\n      <td>0.0</td>\n      <td>0.0</td>\n      <td>0.0</td>\n      <td>0.0</td>\n      <td>0.0</td>\n      <td>0.0</td>\n      <td>0.0</td>\n      <td>0.0</td>\n      <td>0.0</td>\n      <td>...</td>\n      <td>0.0</td>\n      <td>0.0</td>\n      <td>0.0</td>\n      <td>0.0</td>\n      <td>0.0</td>\n      <td>0.0</td>\n      <td>0.0</td>\n      <td>0.0</td>\n      <td>0.0</td>\n      <td>0.0</td>\n    </tr>\n    <tr>\n      <th>15795</th>\n      <td>0.0</td>\n      <td>0.0</td>\n      <td>0.0</td>\n      <td>0.0</td>\n      <td>0.0</td>\n      <td>0.0</td>\n      <td>0.0</td>\n      <td>0.0</td>\n      <td>0.0</td>\n      <td>0.0</td>\n      <td>...</td>\n      <td>0.0</td>\n      <td>0.0</td>\n      <td>0.0</td>\n      <td>0.0</td>\n      <td>0.0</td>\n      <td>0.0</td>\n      <td>0.0</td>\n      <td>0.0</td>\n      <td>0.0</td>\n      <td>0.0</td>\n    </tr>\n  </tbody>\n</table>\n<p>13772 rows × 6043 columns</p>\n</div>"
     },
     "execution_count": 76,
     "metadata": {},
     "output_type": "execute_result"
    }
   ],
   "source": [
    "# Create new dataframe with the index of X_train, columns as the content of X_train_transformed token/feature names\n",
    "X_train_transformed_df = pd.DataFrame(X_train_tfidf.toarray(), index=X_train.index, columns=tfidf.get_feature_names())\n",
    "X_train_transformed_df"
   ],
   "metadata": {
    "collapsed": false,
    "pycharm": {
     "name": "#%%\n"
    }
   }
  },
  {
   "cell_type": "code",
   "execution_count": 77,
   "outputs": [
    {
     "data": {
      "text/plain": "        aa   ab  abacu  abandon  abbey  abbrevi  abc  abil  abl  aboard  ...  \\\n11809  0.0  0.0    0.0      0.0    0.0      0.0  0.0   0.0  0.0     0.0  ...   \n3993   0.0  0.0    0.0      0.0    0.0      0.0  0.0   0.0  0.0     0.0  ...   \n7834   0.0  0.0    0.0      0.0    0.0      0.0  0.0   0.0  0.0     0.0  ...   \n4708   0.0  0.0    0.0      0.0    0.0      0.0  0.0   0.0  0.0     0.0  ...   \n2993   0.0  0.0    0.0      0.0    0.0      0.0  0.0   0.0  0.0     0.0  ...   \n...    ...  ...    ...      ...    ...      ...  ...   ...  ...     ...  ...   \n13266  0.0  0.0    0.0      0.0    0.0      0.0  0.0   0.0  0.0     0.0  ...   \n11859  0.0  0.0    0.0      0.0    0.0      0.0  0.0   0.0  0.0     0.0  ...   \n16534  0.0  0.0    0.0      0.0    0.0      0.0  0.0   0.0  0.0     0.0  ...   \n15123  0.0  0.0    0.0      0.0    0.0      0.0  0.0   0.0  0.0     0.0  ...   \n33     0.0  0.0    0.0      0.0    0.0      0.0  0.0   0.0  0.0     0.0  ...   \n\n       zhukov  zip  ziploc   ziplock  zoc  zombi  zone  zoo   zu  zulu  \n11809     0.0  0.0     0.0  0.000000  0.0    0.0   0.0  0.0  0.0   0.0  \n3993      0.0  0.0     0.0  0.000000  0.0    0.0   0.0  0.0  0.0   0.0  \n7834      0.0  0.0     0.0  0.000000  0.0    0.0   0.0  0.0  0.0   0.0  \n4708      0.0  0.0     0.0  0.176951  0.0    0.0   0.0  0.0  0.0   0.0  \n2993      0.0  0.0     0.0  0.000000  0.0    0.0   0.0  0.0  0.0   0.0  \n...       ...  ...     ...       ...  ...    ...   ...  ...  ...   ...  \n13266     0.0  0.0     0.0  0.000000  0.0    0.0   0.0  0.0  0.0   0.0  \n11859     0.0  0.0     0.0  0.000000  0.0    0.0   0.0  0.0  0.0   0.0  \n16534     0.0  0.0     0.0  0.000000  0.0    0.0   0.0  0.0  0.0   0.0  \n15123     0.0  0.0     0.0  0.000000  0.0    0.0   0.0  0.0  0.0   0.0  \n33        0.0  0.0     0.0  0.000000  0.0    0.0   0.0  0.0  0.0   0.0  \n\n[4591 rows x 6043 columns]",
      "text/html": "<div>\n<style scoped>\n    .dataframe tbody tr th:only-of-type {\n        vertical-align: middle;\n    }\n\n    .dataframe tbody tr th {\n        vertical-align: top;\n    }\n\n    .dataframe thead th {\n        text-align: right;\n    }\n</style>\n<table border=\"1\" class=\"dataframe\">\n  <thead>\n    <tr style=\"text-align: right;\">\n      <th></th>\n      <th>aa</th>\n      <th>ab</th>\n      <th>abacu</th>\n      <th>abandon</th>\n      <th>abbey</th>\n      <th>abbrevi</th>\n      <th>abc</th>\n      <th>abil</th>\n      <th>abl</th>\n      <th>aboard</th>\n      <th>...</th>\n      <th>zhukov</th>\n      <th>zip</th>\n      <th>ziploc</th>\n      <th>ziplock</th>\n      <th>zoc</th>\n      <th>zombi</th>\n      <th>zone</th>\n      <th>zoo</th>\n      <th>zu</th>\n      <th>zulu</th>\n    </tr>\n  </thead>\n  <tbody>\n    <tr>\n      <th>11809</th>\n      <td>0.0</td>\n      <td>0.0</td>\n      <td>0.0</td>\n      <td>0.0</td>\n      <td>0.0</td>\n      <td>0.0</td>\n      <td>0.0</td>\n      <td>0.0</td>\n      <td>0.0</td>\n      <td>0.0</td>\n      <td>...</td>\n      <td>0.0</td>\n      <td>0.0</td>\n      <td>0.0</td>\n      <td>0.000000</td>\n      <td>0.0</td>\n      <td>0.0</td>\n      <td>0.0</td>\n      <td>0.0</td>\n      <td>0.0</td>\n      <td>0.0</td>\n    </tr>\n    <tr>\n      <th>3993</th>\n      <td>0.0</td>\n      <td>0.0</td>\n      <td>0.0</td>\n      <td>0.0</td>\n      <td>0.0</td>\n      <td>0.0</td>\n      <td>0.0</td>\n      <td>0.0</td>\n      <td>0.0</td>\n      <td>0.0</td>\n      <td>...</td>\n      <td>0.0</td>\n      <td>0.0</td>\n      <td>0.0</td>\n      <td>0.000000</td>\n      <td>0.0</td>\n      <td>0.0</td>\n      <td>0.0</td>\n      <td>0.0</td>\n      <td>0.0</td>\n      <td>0.0</td>\n    </tr>\n    <tr>\n      <th>7834</th>\n      <td>0.0</td>\n      <td>0.0</td>\n      <td>0.0</td>\n      <td>0.0</td>\n      <td>0.0</td>\n      <td>0.0</td>\n      <td>0.0</td>\n      <td>0.0</td>\n      <td>0.0</td>\n      <td>0.0</td>\n      <td>...</td>\n      <td>0.0</td>\n      <td>0.0</td>\n      <td>0.0</td>\n      <td>0.000000</td>\n      <td>0.0</td>\n      <td>0.0</td>\n      <td>0.0</td>\n      <td>0.0</td>\n      <td>0.0</td>\n      <td>0.0</td>\n    </tr>\n    <tr>\n      <th>4708</th>\n      <td>0.0</td>\n      <td>0.0</td>\n      <td>0.0</td>\n      <td>0.0</td>\n      <td>0.0</td>\n      <td>0.0</td>\n      <td>0.0</td>\n      <td>0.0</td>\n      <td>0.0</td>\n      <td>0.0</td>\n      <td>...</td>\n      <td>0.0</td>\n      <td>0.0</td>\n      <td>0.0</td>\n      <td>0.176951</td>\n      <td>0.0</td>\n      <td>0.0</td>\n      <td>0.0</td>\n      <td>0.0</td>\n      <td>0.0</td>\n      <td>0.0</td>\n    </tr>\n    <tr>\n      <th>2993</th>\n      <td>0.0</td>\n      <td>0.0</td>\n      <td>0.0</td>\n      <td>0.0</td>\n      <td>0.0</td>\n      <td>0.0</td>\n      <td>0.0</td>\n      <td>0.0</td>\n      <td>0.0</td>\n      <td>0.0</td>\n      <td>...</td>\n      <td>0.0</td>\n      <td>0.0</td>\n      <td>0.0</td>\n      <td>0.000000</td>\n      <td>0.0</td>\n      <td>0.0</td>\n      <td>0.0</td>\n      <td>0.0</td>\n      <td>0.0</td>\n      <td>0.0</td>\n    </tr>\n    <tr>\n      <th>...</th>\n      <td>...</td>\n      <td>...</td>\n      <td>...</td>\n      <td>...</td>\n      <td>...</td>\n      <td>...</td>\n      <td>...</td>\n      <td>...</td>\n      <td>...</td>\n      <td>...</td>\n      <td>...</td>\n      <td>...</td>\n      <td>...</td>\n      <td>...</td>\n      <td>...</td>\n      <td>...</td>\n      <td>...</td>\n      <td>...</td>\n      <td>...</td>\n      <td>...</td>\n      <td>...</td>\n    </tr>\n    <tr>\n      <th>13266</th>\n      <td>0.0</td>\n      <td>0.0</td>\n      <td>0.0</td>\n      <td>0.0</td>\n      <td>0.0</td>\n      <td>0.0</td>\n      <td>0.0</td>\n      <td>0.0</td>\n      <td>0.0</td>\n      <td>0.0</td>\n      <td>...</td>\n      <td>0.0</td>\n      <td>0.0</td>\n      <td>0.0</td>\n      <td>0.000000</td>\n      <td>0.0</td>\n      <td>0.0</td>\n      <td>0.0</td>\n      <td>0.0</td>\n      <td>0.0</td>\n      <td>0.0</td>\n    </tr>\n    <tr>\n      <th>11859</th>\n      <td>0.0</td>\n      <td>0.0</td>\n      <td>0.0</td>\n      <td>0.0</td>\n      <td>0.0</td>\n      <td>0.0</td>\n      <td>0.0</td>\n      <td>0.0</td>\n      <td>0.0</td>\n      <td>0.0</td>\n      <td>...</td>\n      <td>0.0</td>\n      <td>0.0</td>\n      <td>0.0</td>\n      <td>0.000000</td>\n      <td>0.0</td>\n      <td>0.0</td>\n      <td>0.0</td>\n      <td>0.0</td>\n      <td>0.0</td>\n      <td>0.0</td>\n    </tr>\n    <tr>\n      <th>16534</th>\n      <td>0.0</td>\n      <td>0.0</td>\n      <td>0.0</td>\n      <td>0.0</td>\n      <td>0.0</td>\n      <td>0.0</td>\n      <td>0.0</td>\n      <td>0.0</td>\n      <td>0.0</td>\n      <td>0.0</td>\n      <td>...</td>\n      <td>0.0</td>\n      <td>0.0</td>\n      <td>0.0</td>\n      <td>0.000000</td>\n      <td>0.0</td>\n      <td>0.0</td>\n      <td>0.0</td>\n      <td>0.0</td>\n      <td>0.0</td>\n      <td>0.0</td>\n    </tr>\n    <tr>\n      <th>15123</th>\n      <td>0.0</td>\n      <td>0.0</td>\n      <td>0.0</td>\n      <td>0.0</td>\n      <td>0.0</td>\n      <td>0.0</td>\n      <td>0.0</td>\n      <td>0.0</td>\n      <td>0.0</td>\n      <td>0.0</td>\n      <td>...</td>\n      <td>0.0</td>\n      <td>0.0</td>\n      <td>0.0</td>\n      <td>0.000000</td>\n      <td>0.0</td>\n      <td>0.0</td>\n      <td>0.0</td>\n      <td>0.0</td>\n      <td>0.0</td>\n      <td>0.0</td>\n    </tr>\n    <tr>\n      <th>33</th>\n      <td>0.0</td>\n      <td>0.0</td>\n      <td>0.0</td>\n      <td>0.0</td>\n      <td>0.0</td>\n      <td>0.0</td>\n      <td>0.0</td>\n      <td>0.0</td>\n      <td>0.0</td>\n      <td>0.0</td>\n      <td>...</td>\n      <td>0.0</td>\n      <td>0.0</td>\n      <td>0.0</td>\n      <td>0.000000</td>\n      <td>0.0</td>\n      <td>0.0</td>\n      <td>0.0</td>\n      <td>0.0</td>\n      <td>0.0</td>\n      <td>0.0</td>\n    </tr>\n  </tbody>\n</table>\n<p>4591 rows × 6043 columns</p>\n</div>"
     },
     "execution_count": 77,
     "metadata": {},
     "output_type": "execute_result"
    }
   ],
   "source": [
    "# Create new dataframe with the index of X_test, columns as the content of X_test_transformed token/feature names\n",
    "X_test_transformed_df = pd.DataFrame(X_test_tfidf.toarray(), index=X_test.index, columns=tfidf.get_feature_names())\n",
    "X_test_transformed_df"
   ],
   "metadata": {
    "collapsed": false,
    "pycharm": {
     "name": "#%%\n"
    }
   }
  },
  {
   "cell_type": "code",
   "execution_count": 85,
   "outputs": [
    {
     "data": {
      "text/plain": "        aa   ab  abacu  abandon  abbey  abbrevi  abc  abil  abl  aboard  ...  \\\n7921   0.0  0.0    0.0      0.0    0.0      0.0  0.0   0.0  0.0     0.0  ...   \n311    0.0  0.0    0.0      0.0    0.0      0.0  0.0   0.0  0.0     0.0  ...   \n17272  0.0  0.0    0.0      0.0    0.0      0.0  0.0   0.0  0.0     0.0  ...   \n7405   0.0  0.0    0.0      0.0    0.0      0.0  0.0   0.0  0.0     0.0  ...   \n7553   0.0  0.0    0.0      0.0    0.0      0.0  0.0   0.0  0.0     0.0  ...   \n...    ...  ...    ...      ...    ...      ...  ...   ...  ...     ...  ...   \n11284  0.0  0.0    0.0      0.0    0.0      0.0  0.0   0.0  0.0     0.0  ...   \n11964  0.0  0.0    0.0      0.0    0.0      0.0  0.0   0.0  0.0     0.0  ...   \n5390   0.0  0.0    0.0      0.0    0.0      0.0  0.0   0.0  0.0     0.0  ...   \n860    0.0  0.0    0.0      0.0    0.0      0.0  0.0   0.0  0.0     0.0  ...   \n15795  0.0  0.0    0.0      0.0    0.0      0.0  0.0   0.0  0.0     0.0  ...   \n\n       zone  zoo   zu  zulu  Abstract  Children's  Family  Strategy  Thematic  \\\n7921    0.0  0.0  0.0   0.0         0           0       0         1         0   \n311     0.0  0.0  0.0   0.0         0           0       1         0         1   \n17272   0.0  0.0  0.0   0.0         1           0       0         0         0   \n7405    0.0  0.0  0.0   0.0         0           0       1         0         0   \n7553    0.0  0.0  0.0   0.0         0           0       1         0         0   \n...     ...  ...  ...   ...       ...         ...     ...       ...       ...   \n11284   0.0  0.0  0.0   0.0         0           0       0         0         0   \n11964   0.0  0.0  0.0   0.0         0           0       0         0         0   \n5390    0.0  0.0  0.0   0.0         0           1       0         0         0   \n860     0.0  0.0  0.0   0.0         0           0       0         0         1   \n15795   0.0  0.0  0.0   0.0         1           0       0         0         0   \n\n       Wargames  \n7921          0  \n311           0  \n17272         0  \n7405          0  \n7553          0  \n...         ...  \n11284         1  \n11964         1  \n5390          0  \n860           1  \n15795         0  \n\n[13772 rows x 6049 columns]",
      "text/html": "<div>\n<style scoped>\n    .dataframe tbody tr th:only-of-type {\n        vertical-align: middle;\n    }\n\n    .dataframe tbody tr th {\n        vertical-align: top;\n    }\n\n    .dataframe thead th {\n        text-align: right;\n    }\n</style>\n<table border=\"1\" class=\"dataframe\">\n  <thead>\n    <tr style=\"text-align: right;\">\n      <th></th>\n      <th>aa</th>\n      <th>ab</th>\n      <th>abacu</th>\n      <th>abandon</th>\n      <th>abbey</th>\n      <th>abbrevi</th>\n      <th>abc</th>\n      <th>abil</th>\n      <th>abl</th>\n      <th>aboard</th>\n      <th>...</th>\n      <th>zone</th>\n      <th>zoo</th>\n      <th>zu</th>\n      <th>zulu</th>\n      <th>Abstract</th>\n      <th>Children's</th>\n      <th>Family</th>\n      <th>Strategy</th>\n      <th>Thematic</th>\n      <th>Wargames</th>\n    </tr>\n  </thead>\n  <tbody>\n    <tr>\n      <th>7921</th>\n      <td>0.0</td>\n      <td>0.0</td>\n      <td>0.0</td>\n      <td>0.0</td>\n      <td>0.0</td>\n      <td>0.0</td>\n      <td>0.0</td>\n      <td>0.0</td>\n      <td>0.0</td>\n      <td>0.0</td>\n      <td>...</td>\n      <td>0.0</td>\n      <td>0.0</td>\n      <td>0.0</td>\n      <td>0.0</td>\n      <td>0</td>\n      <td>0</td>\n      <td>0</td>\n      <td>1</td>\n      <td>0</td>\n      <td>0</td>\n    </tr>\n    <tr>\n      <th>311</th>\n      <td>0.0</td>\n      <td>0.0</td>\n      <td>0.0</td>\n      <td>0.0</td>\n      <td>0.0</td>\n      <td>0.0</td>\n      <td>0.0</td>\n      <td>0.0</td>\n      <td>0.0</td>\n      <td>0.0</td>\n      <td>...</td>\n      <td>0.0</td>\n      <td>0.0</td>\n      <td>0.0</td>\n      <td>0.0</td>\n      <td>0</td>\n      <td>0</td>\n      <td>1</td>\n      <td>0</td>\n      <td>1</td>\n      <td>0</td>\n    </tr>\n    <tr>\n      <th>17272</th>\n      <td>0.0</td>\n      <td>0.0</td>\n      <td>0.0</td>\n      <td>0.0</td>\n      <td>0.0</td>\n      <td>0.0</td>\n      <td>0.0</td>\n      <td>0.0</td>\n      <td>0.0</td>\n      <td>0.0</td>\n      <td>...</td>\n      <td>0.0</td>\n      <td>0.0</td>\n      <td>0.0</td>\n      <td>0.0</td>\n      <td>1</td>\n      <td>0</td>\n      <td>0</td>\n      <td>0</td>\n      <td>0</td>\n      <td>0</td>\n    </tr>\n    <tr>\n      <th>7405</th>\n      <td>0.0</td>\n      <td>0.0</td>\n      <td>0.0</td>\n      <td>0.0</td>\n      <td>0.0</td>\n      <td>0.0</td>\n      <td>0.0</td>\n      <td>0.0</td>\n      <td>0.0</td>\n      <td>0.0</td>\n      <td>...</td>\n      <td>0.0</td>\n      <td>0.0</td>\n      <td>0.0</td>\n      <td>0.0</td>\n      <td>0</td>\n      <td>0</td>\n      <td>1</td>\n      <td>0</td>\n      <td>0</td>\n      <td>0</td>\n    </tr>\n    <tr>\n      <th>7553</th>\n      <td>0.0</td>\n      <td>0.0</td>\n      <td>0.0</td>\n      <td>0.0</td>\n      <td>0.0</td>\n      <td>0.0</td>\n      <td>0.0</td>\n      <td>0.0</td>\n      <td>0.0</td>\n      <td>0.0</td>\n      <td>...</td>\n      <td>0.0</td>\n      <td>0.0</td>\n      <td>0.0</td>\n      <td>0.0</td>\n      <td>0</td>\n      <td>0</td>\n      <td>1</td>\n      <td>0</td>\n      <td>0</td>\n      <td>0</td>\n    </tr>\n    <tr>\n      <th>...</th>\n      <td>...</td>\n      <td>...</td>\n      <td>...</td>\n      <td>...</td>\n      <td>...</td>\n      <td>...</td>\n      <td>...</td>\n      <td>...</td>\n      <td>...</td>\n      <td>...</td>\n      <td>...</td>\n      <td>...</td>\n      <td>...</td>\n      <td>...</td>\n      <td>...</td>\n      <td>...</td>\n      <td>...</td>\n      <td>...</td>\n      <td>...</td>\n      <td>...</td>\n      <td>...</td>\n    </tr>\n    <tr>\n      <th>11284</th>\n      <td>0.0</td>\n      <td>0.0</td>\n      <td>0.0</td>\n      <td>0.0</td>\n      <td>0.0</td>\n      <td>0.0</td>\n      <td>0.0</td>\n      <td>0.0</td>\n      <td>0.0</td>\n      <td>0.0</td>\n      <td>...</td>\n      <td>0.0</td>\n      <td>0.0</td>\n      <td>0.0</td>\n      <td>0.0</td>\n      <td>0</td>\n      <td>0</td>\n      <td>0</td>\n      <td>0</td>\n      <td>0</td>\n      <td>1</td>\n    </tr>\n    <tr>\n      <th>11964</th>\n      <td>0.0</td>\n      <td>0.0</td>\n      <td>0.0</td>\n      <td>0.0</td>\n      <td>0.0</td>\n      <td>0.0</td>\n      <td>0.0</td>\n      <td>0.0</td>\n      <td>0.0</td>\n      <td>0.0</td>\n      <td>...</td>\n      <td>0.0</td>\n      <td>0.0</td>\n      <td>0.0</td>\n      <td>0.0</td>\n      <td>0</td>\n      <td>0</td>\n      <td>0</td>\n      <td>0</td>\n      <td>0</td>\n      <td>1</td>\n    </tr>\n    <tr>\n      <th>5390</th>\n      <td>0.0</td>\n      <td>0.0</td>\n      <td>0.0</td>\n      <td>0.0</td>\n      <td>0.0</td>\n      <td>0.0</td>\n      <td>0.0</td>\n      <td>0.0</td>\n      <td>0.0</td>\n      <td>0.0</td>\n      <td>...</td>\n      <td>0.0</td>\n      <td>0.0</td>\n      <td>0.0</td>\n      <td>0.0</td>\n      <td>0</td>\n      <td>1</td>\n      <td>0</td>\n      <td>0</td>\n      <td>0</td>\n      <td>0</td>\n    </tr>\n    <tr>\n      <th>860</th>\n      <td>0.0</td>\n      <td>0.0</td>\n      <td>0.0</td>\n      <td>0.0</td>\n      <td>0.0</td>\n      <td>0.0</td>\n      <td>0.0</td>\n      <td>0.0</td>\n      <td>0.0</td>\n      <td>0.0</td>\n      <td>...</td>\n      <td>0.0</td>\n      <td>0.0</td>\n      <td>0.0</td>\n      <td>0.0</td>\n      <td>0</td>\n      <td>0</td>\n      <td>0</td>\n      <td>0</td>\n      <td>1</td>\n      <td>1</td>\n    </tr>\n    <tr>\n      <th>15795</th>\n      <td>0.0</td>\n      <td>0.0</td>\n      <td>0.0</td>\n      <td>0.0</td>\n      <td>0.0</td>\n      <td>0.0</td>\n      <td>0.0</td>\n      <td>0.0</td>\n      <td>0.0</td>\n      <td>0.0</td>\n      <td>...</td>\n      <td>0.0</td>\n      <td>0.0</td>\n      <td>0.0</td>\n      <td>0.0</td>\n      <td>1</td>\n      <td>0</td>\n      <td>0</td>\n      <td>0</td>\n      <td>0</td>\n      <td>0</td>\n    </tr>\n  </tbody>\n</table>\n<p>13772 rows × 6049 columns</p>\n</div>"
     },
     "execution_count": 85,
     "metadata": {},
     "output_type": "execute_result"
    }
   ],
   "source": [
    "train_df_export = X_train_transformed_df.copy()\n",
    "train_df_export = train_df_export.merge(y_train, on=train_df_export.index)\n",
    "train_df_export = train_df_export.set_index(['key_0'])\n",
    "train_df_export.index.name = None\n",
    "train_df_export"
   ],
   "metadata": {
    "collapsed": false,
    "pycharm": {
     "name": "#%%\n"
    }
   }
  },
  {
   "cell_type": "code",
   "execution_count": 86,
   "outputs": [
    {
     "data": {
      "text/plain": "        aa   ab  abacu  abandon  abbey  abbrevi  abc  abil  abl  aboard  ...  \\\n11809  0.0  0.0    0.0      0.0    0.0      0.0  0.0   0.0  0.0     0.0  ...   \n3993   0.0  0.0    0.0      0.0    0.0      0.0  0.0   0.0  0.0     0.0  ...   \n7834   0.0  0.0    0.0      0.0    0.0      0.0  0.0   0.0  0.0     0.0  ...   \n4708   0.0  0.0    0.0      0.0    0.0      0.0  0.0   0.0  0.0     0.0  ...   \n2993   0.0  0.0    0.0      0.0    0.0      0.0  0.0   0.0  0.0     0.0  ...   \n...    ...  ...    ...      ...    ...      ...  ...   ...  ...     ...  ...   \n13266  0.0  0.0    0.0      0.0    0.0      0.0  0.0   0.0  0.0     0.0  ...   \n11859  0.0  0.0    0.0      0.0    0.0      0.0  0.0   0.0  0.0     0.0  ...   \n16534  0.0  0.0    0.0      0.0    0.0      0.0  0.0   0.0  0.0     0.0  ...   \n15123  0.0  0.0    0.0      0.0    0.0      0.0  0.0   0.0  0.0     0.0  ...   \n33     0.0  0.0    0.0      0.0    0.0      0.0  0.0   0.0  0.0     0.0  ...   \n\n       zone  zoo   zu  zulu  Abstract  Children's  Family  Strategy  Thematic  \\\n11809   0.0  0.0  0.0   0.0         0           0       0         0         0   \n3993    0.0  0.0  0.0   0.0         0           1       0         0         0   \n7834    0.0  0.0  0.0   0.0         0           0       0         1         0   \n4708    0.0  0.0  0.0   0.0         0           1       0         0         0   \n2993    0.0  0.0  0.0   0.0         0           1       0         0         0   \n...     ...  ...  ...   ...       ...         ...     ...       ...       ...   \n13266   0.0  0.0  0.0   0.0         0           0       0         0         0   \n11859   0.0  0.0  0.0   0.0         0           0       0         0         0   \n16534   0.0  0.0  0.0   0.0         1           0       0         0         0   \n15123   0.0  0.0  0.0   0.0         1           0       0         0         0   \n33      0.0  0.0  0.0   0.0         0           0       0         0         1   \n\n       Wargames  \n11809         1  \n3993          0  \n7834          0  \n4708          0  \n2993          0  \n...         ...  \n13266         1  \n11859         1  \n16534         0  \n15123         0  \n33            0  \n\n[4591 rows x 6049 columns]",
      "text/html": "<div>\n<style scoped>\n    .dataframe tbody tr th:only-of-type {\n        vertical-align: middle;\n    }\n\n    .dataframe tbody tr th {\n        vertical-align: top;\n    }\n\n    .dataframe thead th {\n        text-align: right;\n    }\n</style>\n<table border=\"1\" class=\"dataframe\">\n  <thead>\n    <tr style=\"text-align: right;\">\n      <th></th>\n      <th>aa</th>\n      <th>ab</th>\n      <th>abacu</th>\n      <th>abandon</th>\n      <th>abbey</th>\n      <th>abbrevi</th>\n      <th>abc</th>\n      <th>abil</th>\n      <th>abl</th>\n      <th>aboard</th>\n      <th>...</th>\n      <th>zone</th>\n      <th>zoo</th>\n      <th>zu</th>\n      <th>zulu</th>\n      <th>Abstract</th>\n      <th>Children's</th>\n      <th>Family</th>\n      <th>Strategy</th>\n      <th>Thematic</th>\n      <th>Wargames</th>\n    </tr>\n  </thead>\n  <tbody>\n    <tr>\n      <th>11809</th>\n      <td>0.0</td>\n      <td>0.0</td>\n      <td>0.0</td>\n      <td>0.0</td>\n      <td>0.0</td>\n      <td>0.0</td>\n      <td>0.0</td>\n      <td>0.0</td>\n      <td>0.0</td>\n      <td>0.0</td>\n      <td>...</td>\n      <td>0.0</td>\n      <td>0.0</td>\n      <td>0.0</td>\n      <td>0.0</td>\n      <td>0</td>\n      <td>0</td>\n      <td>0</td>\n      <td>0</td>\n      <td>0</td>\n      <td>1</td>\n    </tr>\n    <tr>\n      <th>3993</th>\n      <td>0.0</td>\n      <td>0.0</td>\n      <td>0.0</td>\n      <td>0.0</td>\n      <td>0.0</td>\n      <td>0.0</td>\n      <td>0.0</td>\n      <td>0.0</td>\n      <td>0.0</td>\n      <td>0.0</td>\n      <td>...</td>\n      <td>0.0</td>\n      <td>0.0</td>\n      <td>0.0</td>\n      <td>0.0</td>\n      <td>0</td>\n      <td>1</td>\n      <td>0</td>\n      <td>0</td>\n      <td>0</td>\n      <td>0</td>\n    </tr>\n    <tr>\n      <th>7834</th>\n      <td>0.0</td>\n      <td>0.0</td>\n      <td>0.0</td>\n      <td>0.0</td>\n      <td>0.0</td>\n      <td>0.0</td>\n      <td>0.0</td>\n      <td>0.0</td>\n      <td>0.0</td>\n      <td>0.0</td>\n      <td>...</td>\n      <td>0.0</td>\n      <td>0.0</td>\n      <td>0.0</td>\n      <td>0.0</td>\n      <td>0</td>\n      <td>0</td>\n      <td>0</td>\n      <td>1</td>\n      <td>0</td>\n      <td>0</td>\n    </tr>\n    <tr>\n      <th>4708</th>\n      <td>0.0</td>\n      <td>0.0</td>\n      <td>0.0</td>\n      <td>0.0</td>\n      <td>0.0</td>\n      <td>0.0</td>\n      <td>0.0</td>\n      <td>0.0</td>\n      <td>0.0</td>\n      <td>0.0</td>\n      <td>...</td>\n      <td>0.0</td>\n      <td>0.0</td>\n      <td>0.0</td>\n      <td>0.0</td>\n      <td>0</td>\n      <td>1</td>\n      <td>0</td>\n      <td>0</td>\n      <td>0</td>\n      <td>0</td>\n    </tr>\n    <tr>\n      <th>2993</th>\n      <td>0.0</td>\n      <td>0.0</td>\n      <td>0.0</td>\n      <td>0.0</td>\n      <td>0.0</td>\n      <td>0.0</td>\n      <td>0.0</td>\n      <td>0.0</td>\n      <td>0.0</td>\n      <td>0.0</td>\n      <td>...</td>\n      <td>0.0</td>\n      <td>0.0</td>\n      <td>0.0</td>\n      <td>0.0</td>\n      <td>0</td>\n      <td>1</td>\n      <td>0</td>\n      <td>0</td>\n      <td>0</td>\n      <td>0</td>\n    </tr>\n    <tr>\n      <th>...</th>\n      <td>...</td>\n      <td>...</td>\n      <td>...</td>\n      <td>...</td>\n      <td>...</td>\n      <td>...</td>\n      <td>...</td>\n      <td>...</td>\n      <td>...</td>\n      <td>...</td>\n      <td>...</td>\n      <td>...</td>\n      <td>...</td>\n      <td>...</td>\n      <td>...</td>\n      <td>...</td>\n      <td>...</td>\n      <td>...</td>\n      <td>...</td>\n      <td>...</td>\n      <td>...</td>\n    </tr>\n    <tr>\n      <th>13266</th>\n      <td>0.0</td>\n      <td>0.0</td>\n      <td>0.0</td>\n      <td>0.0</td>\n      <td>0.0</td>\n      <td>0.0</td>\n      <td>0.0</td>\n      <td>0.0</td>\n      <td>0.0</td>\n      <td>0.0</td>\n      <td>...</td>\n      <td>0.0</td>\n      <td>0.0</td>\n      <td>0.0</td>\n      <td>0.0</td>\n      <td>0</td>\n      <td>0</td>\n      <td>0</td>\n      <td>0</td>\n      <td>0</td>\n      <td>1</td>\n    </tr>\n    <tr>\n      <th>11859</th>\n      <td>0.0</td>\n      <td>0.0</td>\n      <td>0.0</td>\n      <td>0.0</td>\n      <td>0.0</td>\n      <td>0.0</td>\n      <td>0.0</td>\n      <td>0.0</td>\n      <td>0.0</td>\n      <td>0.0</td>\n      <td>...</td>\n      <td>0.0</td>\n      <td>0.0</td>\n      <td>0.0</td>\n      <td>0.0</td>\n      <td>0</td>\n      <td>0</td>\n      <td>0</td>\n      <td>0</td>\n      <td>0</td>\n      <td>1</td>\n    </tr>\n    <tr>\n      <th>16534</th>\n      <td>0.0</td>\n      <td>0.0</td>\n      <td>0.0</td>\n      <td>0.0</td>\n      <td>0.0</td>\n      <td>0.0</td>\n      <td>0.0</td>\n      <td>0.0</td>\n      <td>0.0</td>\n      <td>0.0</td>\n      <td>...</td>\n      <td>0.0</td>\n      <td>0.0</td>\n      <td>0.0</td>\n      <td>0.0</td>\n      <td>1</td>\n      <td>0</td>\n      <td>0</td>\n      <td>0</td>\n      <td>0</td>\n      <td>0</td>\n    </tr>\n    <tr>\n      <th>15123</th>\n      <td>0.0</td>\n      <td>0.0</td>\n      <td>0.0</td>\n      <td>0.0</td>\n      <td>0.0</td>\n      <td>0.0</td>\n      <td>0.0</td>\n      <td>0.0</td>\n      <td>0.0</td>\n      <td>0.0</td>\n      <td>...</td>\n      <td>0.0</td>\n      <td>0.0</td>\n      <td>0.0</td>\n      <td>0.0</td>\n      <td>1</td>\n      <td>0</td>\n      <td>0</td>\n      <td>0</td>\n      <td>0</td>\n      <td>0</td>\n    </tr>\n    <tr>\n      <th>33</th>\n      <td>0.0</td>\n      <td>0.0</td>\n      <td>0.0</td>\n      <td>0.0</td>\n      <td>0.0</td>\n      <td>0.0</td>\n      <td>0.0</td>\n      <td>0.0</td>\n      <td>0.0</td>\n      <td>0.0</td>\n      <td>...</td>\n      <td>0.0</td>\n      <td>0.0</td>\n      <td>0.0</td>\n      <td>0.0</td>\n      <td>0</td>\n      <td>0</td>\n      <td>0</td>\n      <td>0</td>\n      <td>1</td>\n      <td>0</td>\n    </tr>\n  </tbody>\n</table>\n<p>4591 rows × 6049 columns</p>\n</div>"
     },
     "execution_count": 86,
     "metadata": {},
     "output_type": "execute_result"
    }
   ],
   "source": [
    "test_df_export = X_test_transformed_df.copy()\n",
    "test_df_export = test_df_export.merge(y_test, on=test_df_export.index)\n",
    "test_df_export = test_df_export.set_index(['key_0'])\n",
    "test_df_export.index.name = None\n",
    "test_df_export"
   ],
   "metadata": {
    "collapsed": false,
    "pycharm": {
     "name": "#%%\n"
    }
   }
  },
  {
   "cell_type": "code",
   "execution_count": 87,
   "outputs": [],
   "source": [
    "pd.to_pickle(train_df_export, 'data/train_df.pkl')\n",
    "pd.to_pickle(test_df_export, 'data/test_df.pkl')"
   ],
   "metadata": {
    "collapsed": false,
    "pycharm": {
     "name": "#%%\n"
    }
   }
  }
 ],
 "metadata": {
  "kernelspec": {
   "display_name": "Python 3",
   "language": "python",
   "name": "python3"
  },
  "language_info": {
   "codemirror_mode": {
    "name": "ipython",
    "version": 2
   },
   "file_extension": ".py",
   "mimetype": "text/x-python",
   "name": "python",
   "nbconvert_exporter": "python",
   "pygments_lexer": "ipython2",
   "version": "2.7.6"
  }
 },
 "nbformat": 4,
 "nbformat_minor": 0
}