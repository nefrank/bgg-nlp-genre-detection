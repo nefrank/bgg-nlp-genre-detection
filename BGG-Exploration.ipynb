{
 "cells": [
  {
   "cell_type": "code",
   "execution_count": 18,
   "metadata": {
    "collapsed": true
   },
   "outputs": [],
   "source": [
    "import pandas as pd\n",
    "import nltk\n",
    "import matplotlib.pyplot as plt\n",
    "import seaborn as sns"
   ]
  },
  {
   "cell_type": "code",
   "execution_count": 19,
   "outputs": [],
   "source": [
    "df = pd.read_pickle('data/BGGDataGenreCLean.pkl')"
   ],
   "metadata": {
    "collapsed": false,
    "pycharm": {
     "name": "#%%\n"
    }
   }
  },
  {
   "cell_type": "code",
   "execution_count": 20,
   "outputs": [
    {
     "data": {
      "text/plain": "6"
     },
     "execution_count": 20,
     "metadata": {},
     "output_type": "execute_result"
    }
   ],
   "source": [
    "all_genres = sum(df['types'],[])\n",
    "len(set(all_genres))"
   ],
   "metadata": {
    "collapsed": false,
    "pycharm": {
     "name": "#%%\n"
    }
   }
  },
  {
   "cell_type": "code",
   "execution_count": 21,
   "outputs": [
    {
     "data": {
      "text/plain": "{'Abstract', \"Children's\", 'Family', 'Strategy', 'Thematic', 'Wargames'}"
     },
     "execution_count": 21,
     "metadata": {},
     "output_type": "execute_result"
    }
   ],
   "source": [
    "set(all_genres)"
   ],
   "metadata": {
    "collapsed": false,
    "pycharm": {
     "name": "#%%\n"
    }
   }
  },
  {
   "cell_type": "code",
   "execution_count": 22,
   "outputs": [],
   "source": [
    "all_genres = nltk.FreqDist(all_genres)\n",
    "\n",
    "# create dataframe\n",
    "all_genres_df = pd.DataFrame({'Genre': list(all_genres.keys()),\n",
    "                              'Count': list(all_genres.values())})"
   ],
   "metadata": {
    "collapsed": false,
    "pycharm": {
     "name": "#%%\n"
    }
   }
  },
  {
   "cell_type": "code",
   "execution_count": 23,
   "outputs": [
    {
     "data": {
      "text/plain": "<Figure size 864x1080 with 1 Axes>",
      "image/png": "[encoded data removed]"
     },
     "metadata": {
      "needs_background": "light"
     },
     "output_type": "display_data"
    }
   ],
   "source": [
    "g = all_genres_df.nlargest(columns=\"Count\", n = 50)\n",
    "plt.figure(figsize=(12,15))\n",
    "ax = sns.barplot(data=g, x= \"Count\", y = \"Genre\")\n",
    "plt.show()"
   ],
   "metadata": {
    "collapsed": false,
    "pycharm": {
     "name": "#%%\n"
    }
   }
  },
  {
   "cell_type": "code",
   "execution_count": 24,
   "outputs": [],
   "source": [
    "def word_count(words):\n",
    "    words = words.replace('  ', ' ')\n",
    "    words = words.replace('/n','')\n",
    "    words = words.strip()\n",
    "    return int(len(words.split(' ')))"
   ],
   "metadata": {
    "collapsed": false,
    "pycharm": {
     "name": "#%%\n"
    }
   }
  },
  {
   "cell_type": "code",
   "execution_count": 25,
   "outputs": [
    {
     "name": "stdout",
     "output_type": "stream",
     "text": [
      "       18362\r"
     ]
    }
   ],
   "source": [
    "for i in df.index:\n",
    "    df.loc[ df.index == i, 'word_count' ] = word_count(df.loc[i, 'description'])\n",
    "    print(f'       {i}',end='\\r')\n",
    "df = df.astype({'word_count': 'int64'})"
   ],
   "metadata": {
    "collapsed": false,
    "pycharm": {
     "name": "#%%\n"
    }
   }
  },
  {
   "cell_type": "code",
   "execution_count": 26,
   "outputs": [
    {
     "data": {
      "text/plain": "                                    name  \\\n0                             Gloomhaven   \n1              Pandemic Legacy: Season 1   \n2           Gloomhaven: Jaws of the Lion   \n3      Twilight Imperium: Fourth Edition   \n4                   Star Wars: Rebellion   \n...                                  ...   \n18358                      Knights Poker   \n18359                            Gekitai   \n18360                           Gekitai²   \n18361                     Digit Draughts   \n18362                          Limelight   \n\n                                             description  \\\n0      gloomhaven is a game of euro inspired tactical...   \n1      pandemic legacy is a co operative campaign gam...   \n2      gloomhaven jaws of the lion is a standalone ga...   \n3      twilight imperium fourth edition is a game of ...   \n4      star wars rebellion is a board game of epic co...   \n...                                                  ...   \n18358  knights poker is the new board game from the w...   \n18359  gekitai repel or push away is a in a row game ...   \n18360  gekitai repel or push away is a in a row game ...   \n18361  digit draughts is a set of three related games...   \n18362  limelight is played on a x grid with the corne...   \n\n                      types  \\\n0      [Strategy, Thematic]   \n1      [Strategy, Thematic]   \n2      [Strategy, Thematic]   \n3      [Strategy, Thematic]   \n4                [Thematic]   \n...                     ...   \n18358            [Abstract]   \n18359            [Abstract]   \n18360            [Abstract]   \n18361            [Abstract]   \n18362            [Abstract]   \n\n                                              categories  word_count  \n0      [Adventure, Exploration, Fantasy, Fighting, Mi...         272  \n1                               [Environmental, Medical]         333  \n2      [Adventure, Exploration, Fantasy, Fighting, Mi...         186  \n3      [Civilization, Economic, Exploration, Negotiat...         444  \n4      [Civil, Fighting, Miniatures, Movies, Science,...         406  \n...                                                  ...         ...  \n18358                                         [Abstract]          54  \n18359                                  [Abstract, Print]         146  \n18360                                  [Abstract, Print]         173  \n18361                                 [Abstract, Number]         226  \n18362                                         [Abstract]         112  \n\n[18363 rows x 5 columns]",
      "text/html": "<div>\n<style scoped>\n    .dataframe tbody tr th:only-of-type {\n        vertical-align: middle;\n    }\n\n    .dataframe tbody tr th {\n        vertical-align: top;\n    }\n\n    .dataframe thead th {\n        text-align: right;\n    }\n</style>\n<table border=\"1\" class=\"dataframe\">\n  <thead>\n    <tr style=\"text-align: right;\">\n      <th></th>\n      <th>name</th>\n      <th>description</th>\n      <th>types</th>\n      <th>categories</th>\n      <th>word_count</th>\n    </tr>\n  </thead>\n  <tbody>\n    <tr>\n      <th>0</th>\n      <td>Gloomhaven</td>\n      <td>gloomhaven is a game of euro inspired tactical...</td>\n      <td>[Strategy, Thematic]</td>\n      <td>[Adventure, Exploration, Fantasy, Fighting, Mi...</td>\n      <td>272</td>\n    </tr>\n    <tr>\n      <th>1</th>\n      <td>Pandemic Legacy: Season 1</td>\n      <td>pandemic legacy is a co operative campaign gam...</td>\n      <td>[Strategy, Thematic]</td>\n      <td>[Environmental, Medical]</td>\n      <td>333</td>\n    </tr>\n    <tr>\n      <th>2</th>\n      <td>Gloomhaven: Jaws of the Lion</td>\n      <td>gloomhaven jaws of the lion is a standalone ga...</td>\n      <td>[Strategy, Thematic]</td>\n      <td>[Adventure, Exploration, Fantasy, Fighting, Mi...</td>\n      <td>186</td>\n    </tr>\n    <tr>\n      <th>3</th>\n      <td>Twilight Imperium: Fourth Edition</td>\n      <td>twilight imperium fourth edition is a game of ...</td>\n      <td>[Strategy, Thematic]</td>\n      <td>[Civilization, Economic, Exploration, Negotiat...</td>\n      <td>444</td>\n    </tr>\n    <tr>\n      <th>4</th>\n      <td>Star Wars: Rebellion</td>\n      <td>star wars rebellion is a board game of epic co...</td>\n      <td>[Thematic]</td>\n      <td>[Civil, Fighting, Miniatures, Movies, Science,...</td>\n      <td>406</td>\n    </tr>\n    <tr>\n      <th>...</th>\n      <td>...</td>\n      <td>...</td>\n      <td>...</td>\n      <td>...</td>\n      <td>...</td>\n    </tr>\n    <tr>\n      <th>18358</th>\n      <td>Knights Poker</td>\n      <td>knights poker is the new board game from the w...</td>\n      <td>[Abstract]</td>\n      <td>[Abstract]</td>\n      <td>54</td>\n    </tr>\n    <tr>\n      <th>18359</th>\n      <td>Gekitai</td>\n      <td>gekitai repel or push away is a in a row game ...</td>\n      <td>[Abstract]</td>\n      <td>[Abstract, Print]</td>\n      <td>146</td>\n    </tr>\n    <tr>\n      <th>18360</th>\n      <td>Gekitai²</td>\n      <td>gekitai repel or push away is a in a row game ...</td>\n      <td>[Abstract]</td>\n      <td>[Abstract, Print]</td>\n      <td>173</td>\n    </tr>\n    <tr>\n      <th>18361</th>\n      <td>Digit Draughts</td>\n      <td>digit draughts is a set of three related games...</td>\n      <td>[Abstract]</td>\n      <td>[Abstract, Number]</td>\n      <td>226</td>\n    </tr>\n    <tr>\n      <th>18362</th>\n      <td>Limelight</td>\n      <td>limelight is played on a x grid with the corne...</td>\n      <td>[Abstract]</td>\n      <td>[Abstract]</td>\n      <td>112</td>\n    </tr>\n  </tbody>\n</table>\n<p>18363 rows × 5 columns</p>\n</div>"
     },
     "execution_count": 26,
     "metadata": {},
     "output_type": "execute_result"
    }
   ],
   "source": [
    "df"
   ],
   "metadata": {
    "collapsed": false,
    "pycharm": {
     "name": "#%%\n"
    }
   }
  },
  {
   "cell_type": "code",
   "execution_count": 27,
   "outputs": [
    {
     "data": {
      "text/plain": "<Figure size 720x576 with 1 Axes>",
      "image/png": "[encoded data removed]"
     },
     "metadata": {
      "needs_background": "light"
     },
     "output_type": "display_data"
    }
   ],
   "source": [
    "plt.figure(figsize=(10,8))\n",
    "plt.title('Word Count')\n",
    "plt.hist(df['word_count'], bins=100)\n",
    "plt.axvline(df['word_count'].mean(), c='red', label='Mean')\n",
    "plt.xlim((0,df['word_count'].max()));"
   ],
   "metadata": {
    "collapsed": false,
    "pycharm": {
     "name": "#%%\n"
    }
   }
  },
  {
   "cell_type": "code",
   "execution_count": null,
   "outputs": [],
   "source": [],
   "metadata": {
    "collapsed": false,
    "pycharm": {
     "name": "#%%\n"
    }
   }
  }
 ],
 "metadata": {
  "kernelspec": {
   "display_name": "Python 3",
   "language": "python",
   "name": "python3"
  },
  "language_info": {
   "codemirror_mode": {
    "name": "ipython",
    "version": 2
   },
   "file_extension": ".py",
   "mimetype": "text/x-python",
   "name": "python",
   "nbconvert_exporter": "python",
   "pygments_lexer": "ipython2",
   "version": "2.7.6"
  }
 },
 "nbformat": 4,
 "nbformat_minor": 0
}